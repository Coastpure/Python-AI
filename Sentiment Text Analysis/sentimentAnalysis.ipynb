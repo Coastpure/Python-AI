{
 "cells": [
  {
   "cell_type": "markdown",
   "id": "13101448-dfa9-4f99-b5c1-8e592b444953",
   "metadata": {},
   "source": [
    "WE started with\n",
    "\n",
    "    -pip install nltk\n",
    "    -pip install text blob\n",
    "    -pip install newspaper3k"
   ]
  },
  {
   "cell_type": "code",
   "execution_count": 1,
   "id": "e3c84a09-9b8a-4eb6-aa2f-fe6bf4e6dee0",
   "metadata": {},
   "outputs": [],
   "source": [
    "from textblob import TextBlob\n",
    "from newspaper import Article"
   ]
  },
  {
   "cell_type": "markdown",
   "id": "0443bf9d-cb86-49cb-89ea-163ff0499fa3",
   "metadata": {},
   "source": [
    "Before doing this I was getting an error on this line article.nlp():\n",
    "\n",
    "    - Resource punkt not found.\n",
    "      Please use the NLTK Downloader to obtain the resource:"
   ]
  },
  {
   "cell_type": "code",
   "execution_count": 2,
   "id": "f78b5a87-daba-4cf5-b8c8-096f401ba226",
   "metadata": {},
   "outputs": [
    {
     "name": "stderr",
     "output_type": "stream",
     "text": [
      "[nltk_data] Downloading package punkt to\n",
      "[nltk_data]     C:\\Users\\hp\\AppData\\Roaming\\nltk_data...\n",
      "[nltk_data]   Package punkt is already up-to-date!\n"
     ]
    }
   ],
   "source": [
    "\n",
    "import nltk\n",
    "nltk.download('punkt')\n",
    "\n",
    "from nltk import word_tokenize,sent_tokenize"
   ]
  },
  {
   "cell_type": "code",
   "execution_count": 47,
   "id": "62924ac5-e071-4a00-a7ae-fc376b7c3777",
   "metadata": {},
   "outputs": [],
   "source": [
    "url = 'https://abcnews.go.com/US/4th-july-mass-shootings-us-kill-13-injure-80/story?id=100702853'"
   ]
  },
  {
   "cell_type": "markdown",
   "id": "07a23986-5594-45a4-8e6f-4dfe28a34849",
   "metadata": {},
   "source": [
    "Transform it into an Article object of the newspaper library"
   ]
  },
  {
   "cell_type": "code",
   "execution_count": 48,
   "id": "ca8f117c-7f8e-45cc-bf2b-b517f9d50992",
   "metadata": {},
   "outputs": [],
   "source": [
    "article = Article(url)"
   ]
  },
  {
   "cell_type": "markdown",
   "id": "4c395577-6773-4888-ac57-69135c47aa85",
   "metadata": {
    "tags": []
   },
   "source": [
    "Get it into the script"
   ]
  },
  {
   "cell_type": "code",
   "execution_count": 49,
   "id": "f903363c-6929-471a-a700-4865779bf334",
   "metadata": {},
   "outputs": [],
   "source": [
    "article.download()"
   ]
  },
  {
   "cell_type": "markdown",
   "id": "4f5b3db6-7a07-4e7b-b35b-7346b6f32c53",
   "metadata": {},
   "source": [
    "Make it readable (remove all the html)"
   ]
  },
  {
   "cell_type": "code",
   "execution_count": 50,
   "id": "fa78bfd8-6bdc-4ec4-b63e-3f36dc270aab",
   "metadata": {},
   "outputs": [],
   "source": [
    "article.parse()"
   ]
  },
  {
   "cell_type": "markdown",
   "id": "6a9fee79-3c61-40e6-a31c-ecc09e2d00a1",
   "metadata": {},
   "source": [
    "prepare it for natural language processing"
   ]
  },
  {
   "cell_type": "code",
   "execution_count": 51,
   "id": "05c9ad3b-e2f9-44c5-b35e-e54f877d4f66",
   "metadata": {
    "tags": []
   },
   "outputs": [],
   "source": [
    "article.nlp()"
   ]
  },
  {
   "cell_type": "markdown",
   "id": "54410a2f-5c12-44cc-8e97-f474ce35576f",
   "metadata": {},
   "source": [
    "    Get the whole text without the html\n",
    "    .text for full text, .summary for summary"
   ]
  },
  {
   "cell_type": "code",
   "execution_count": 52,
   "id": "7403b31d-543b-4e7c-bbae-9a380ef0a8fb",
   "metadata": {},
   "outputs": [],
   "source": [
    "text = article.summary"
   ]
  },
  {
   "cell_type": "code",
   "execution_count": 53,
   "id": "0de9f01a-bee0-44dd-83c3-4881cfebe498",
   "metadata": {
    "tags": []
   },
   "outputs": [
    {
     "name": "stdout",
     "output_type": "stream",
     "text": [
      "Twenty people were killed and 126 were injured in 22 mass shootings that erupted across the country between 5 p.m.\n",
      "\"This is a societal problem that we're dealing with, a mass shooting where a disagreement turns into 28 people shot.\n",
      "This is insanity,\" an emotional Bill Ferguson, president of the Maryland State Senate, said following a mass shooting that occurred at a Baltimore block party on Sunday.\n",
      "Baltimore block party shooting kills 2, injures 28Multiple shooters are believed to have opened fire at a large block party in Baltimore early Sunday, killing two people and injuring 28 others, police said.\n",
      "Tables are left on their side in the area of a mass shooting incident in the Southern District of Baltimore, July 2, 2023.\n"
     ]
    }
   ],
   "source": [
    "print(text)"
   ]
  },
  {
   "cell_type": "markdown",
   "id": "be6568b9-2a1c-455d-b4eb-d9b16a2cdb8a",
   "metadata": {
    "tags": []
   },
   "source": [
    "    Blob object"
   ]
  },
  {
   "cell_type": "code",
   "execution_count": 54,
   "id": "40e6323a-71d2-4489-89e3-f809503e8c47",
   "metadata": {},
   "outputs": [],
   "source": [
    "blob = TextBlob(text)"
   ]
  },
  {
   "cell_type": "code",
   "execution_count": 55,
   "id": "5296bacc-235e-4e1d-a618-af04974d7caf",
   "metadata": {},
   "outputs": [],
   "source": [
    "sentiment = blob.sentiment.polarity # -1 to 1"
   ]
  },
  {
   "cell_type": "code",
   "execution_count": 56,
   "id": "b511178b-5372-41d0-82b1-699aad80bb4c",
   "metadata": {},
   "outputs": [
    {
     "name": "stdout",
     "output_type": "stream",
     "text": [
      "0.016326530612244896\n"
     ]
    }
   ],
   "source": [
    "print(sentiment)"
   ]
  },
  {
   "cell_type": "markdown",
   "id": "23eac92a-690d-41a8-8449-3755aad9e25f",
   "metadata": {},
   "source": [
    "### Using our text"
   ]
  },
  {
   "cell_type": "code",
   "execution_count": 33,
   "id": "0158e5cb-c7d4-41b0-a27c-5cfaa983f71c",
   "metadata": {},
   "outputs": [],
   "source": [
    "from textblob import TextBlob"
   ]
  },
  {
   "cell_type": "code",
   "execution_count": 34,
   "id": "5cb72e7b-16b1-4fd6-99ca-3ba1bb87e8d7",
   "metadata": {},
   "outputs": [],
   "source": [
    "with open('mytext.txt', 'r') as f:\n",
    "    text = f.read()"
   ]
  },
  {
   "cell_type": "code",
   "execution_count": 35,
   "id": "4c43729d-687d-478f-ae26-87b38148269f",
   "metadata": {},
   "outputs": [],
   "source": [
    "blob = TextBlob(text)"
   ]
  },
  {
   "cell_type": "code",
   "execution_count": 36,
   "id": "7c39db1b-e85d-48ae-8810-5030bc3bb906",
   "metadata": {},
   "outputs": [],
   "source": [
    "sentiment = blob.sentiment.polarity # -1 to 1"
   ]
  },
  {
   "cell_type": "code",
   "execution_count": 37,
   "id": "513f30f7-0e7d-468d-b470-8c5b915fc37b",
   "metadata": {},
   "outputs": [
    {
     "name": "stdout",
     "output_type": "stream",
     "text": [
      "0.7333333333333334\n"
     ]
    }
   ],
   "source": [
    "print(sentiment)"
   ]
  },
  {
   "cell_type": "code",
   "execution_count": 39,
   "id": "2f09d3d6-6237-47d0-81ed-8ef129864dfb",
   "metadata": {},
   "outputs": [],
   "source": [
    "if sentiment > 0:\n",
    "    analysis = \"positive\"\n",
    "else:\n",
    "    analysis = \"negative\""
   ]
  },
  {
   "cell_type": "code",
   "execution_count": 40,
   "id": "8df8bdca-75b9-44cc-ba27-08ce209dccbe",
   "metadata": {},
   "outputs": [
    {
     "name": "stdout",
     "output_type": "stream",
     "text": [
      "positive\n"
     ]
    }
   ],
   "source": [
    "print(analysis)"
   ]
  },
  {
   "cell_type": "code",
   "execution_count": null,
   "id": "c4e01f34-f2bb-48f6-877a-8c204af9498e",
   "metadata": {},
   "outputs": [],
   "source": []
  }
 ],
 "metadata": {
  "kernelspec": {
   "display_name": "Python 3 (ipykernel)",
   "language": "python",
   "name": "python3"
  },
  "language_info": {
   "codemirror_mode": {
    "name": "ipython",
    "version": 3
   },
   "file_extension": ".py",
   "mimetype": "text/x-python",
   "name": "python",
   "nbconvert_exporter": "python",
   "pygments_lexer": "ipython3",
   "version": "3.9.16"
  }
 },
 "nbformat": 4,
 "nbformat_minor": 5
}
