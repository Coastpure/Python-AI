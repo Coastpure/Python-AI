{
 "cells": [
  {
   "cell_type": "markdown",
   "id": "13101448-dfa9-4f99-b5c1-8e592b444953",
   "metadata": {},
   "source": [
    "WE started with\n",
    "\n",
    "    -pip install nltk\n",
    "    -pip install text blob\n",
    "    -pip install newspaper3k"
   ]
  },
  {
   "cell_type": "code",
   "execution_count": 1,
   "id": "e3c84a09-9b8a-4eb6-aa2f-fe6bf4e6dee0",
   "metadata": {},
   "outputs": [],
   "source": [
    "from textblob import TextBlob\n",
    "from newspaper import Article"
   ]
  },
  {
   "cell_type": "markdown",
   "id": "0443bf9d-cb86-49cb-89ea-163ff0499fa3",
   "metadata": {},
   "source": [
    "Before doing this I was getting an error on this line article.nlp():\n",
    "\n",
    "    - Resource punkt not found.\n",
    "      Please use the NLTK Downloader to obtain the resource:"
   ]
  },
  {
   "cell_type": "code",
   "execution_count": 13,
   "id": "f78b5a87-daba-4cf5-b8c8-096f401ba226",
   "metadata": {},
   "outputs": [
    {
     "name": "stderr",
     "output_type": "stream",
     "text": [
      "[nltk_data] Downloading package punkt to\n",
      "[nltk_data]     C:\\Users\\hp\\AppData\\Roaming\\nltk_data...\n",
      "[nltk_data]   Unzipping tokenizers\\punkt.zip.\n"
     ]
    }
   ],
   "source": [
    "\n",
    "import nltk\n",
    "nltk.download('punkt')\n",
    "\n",
    "from nltk import word_tokenize,sent_tokenize"
   ]
  },
  {
   "cell_type": "code",
   "execution_count": 2,
   "id": "62924ac5-e071-4a00-a7ae-fc376b7c3777",
   "metadata": {},
   "outputs": [],
   "source": [
    "url = 'https://en.wikipedia.org/wiki/Engineering'"
   ]
  },
  {
   "cell_type": "markdown",
   "id": "07a23986-5594-45a4-8e6f-4dfe28a34849",
   "metadata": {},
   "source": [
    "Transform it into an Article object of the newspaper library"
   ]
  },
  {
   "cell_type": "code",
   "execution_count": 3,
   "id": "ca8f117c-7f8e-45cc-bf2b-b517f9d50992",
   "metadata": {},
   "outputs": [],
   "source": [
    "article = Article(url)"
   ]
  },
  {
   "cell_type": "markdown",
   "id": "4c395577-6773-4888-ac57-69135c47aa85",
   "metadata": {},
   "source": [
    "Get it into the script"
   ]
  },
  {
   "cell_type": "code",
   "execution_count": 5,
   "id": "f903363c-6929-471a-a700-4865779bf334",
   "metadata": {},
   "outputs": [],
   "source": [
    "article.download()"
   ]
  },
  {
   "cell_type": "markdown",
   "id": "4f5b3db6-7a07-4e7b-b35b-7346b6f32c53",
   "metadata": {},
   "source": [
    "Make it readable (remove all the html)"
   ]
  },
  {
   "cell_type": "code",
   "execution_count": 6,
   "id": "fa78bfd8-6bdc-4ec4-b63e-3f36dc270aab",
   "metadata": {},
   "outputs": [],
   "source": [
    "article.parse()"
   ]
  },
  {
   "cell_type": "markdown",
   "id": "6a9fee79-3c61-40e6-a31c-ecc09e2d00a1",
   "metadata": {},
   "source": [
    "prepare it for natural language processing"
   ]
  },
  {
   "cell_type": "code",
   "execution_count": 14,
   "id": "05c9ad3b-e2f9-44c5-b35e-e54f877d4f66",
   "metadata": {
    "tags": []
   },
   "outputs": [],
   "source": [
    "article.nlp()"
   ]
  },
  {
   "cell_type": "markdown",
   "id": "54410a2f-5c12-44cc-8e97-f474ce35576f",
   "metadata": {},
   "source": [
    "Get the whole text without the html"
   ]
  },
  {
   "cell_type": "code",
   "execution_count": 10,
   "id": "7403b31d-543b-4e7c-bbae-9a380ef0a8fb",
   "metadata": {},
   "outputs": [],
   "source": [
    "text = article.summary"
   ]
  },
  {
   "cell_type": "code",
   "execution_count": 11,
   "id": "0de9f01a-bee0-44dd-83c3-4881cfebe498",
   "metadata": {},
   "outputs": [
    {
     "name": "stdout",
     "output_type": "stream",
     "text": [
      "\n"
     ]
    }
   ],
   "source": [
    "print(text)"
   ]
  },
  {
   "cell_type": "code",
   "execution_count": null,
   "id": "00bc29fc-776b-4d07-a216-2f51a9a834bc",
   "metadata": {},
   "outputs": [],
   "source": []
  }
 ],
 "metadata": {
  "kernelspec": {
   "display_name": "Python 3 (ipykernel)",
   "language": "python",
   "name": "python3"
  },
  "language_info": {
   "codemirror_mode": {
    "name": "ipython",
    "version": 3
   },
   "file_extension": ".py",
   "mimetype": "text/x-python",
   "name": "python",
   "nbconvert_exporter": "python",
   "pygments_lexer": "ipython3",
   "version": "3.9.16"
  }
 },
 "nbformat": 4,
 "nbformat_minor": 5
}
