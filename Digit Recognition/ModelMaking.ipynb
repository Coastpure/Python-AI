{
 "cells": [
  {
   "cell_type": "markdown",
   "id": "10cfd753-74d2-4db5-ac40-1d624a4b9d7a",
   "metadata": {
    "tags": []
   },
   "source": [
    "### Load the data"
   ]
  },
  {
   "cell_type": "code",
   "execution_count": 9,
   "id": "b719f298-1b22-4c2b-a693-175503201f2d",
   "metadata": {},
   "outputs": [],
   "source": [
    "from keras.datasets import mnist\n",
    "(X_train, y_train), (X_test, y_test) = mnist.load_data()"
   ]
  },
  {
   "cell_type": "markdown",
   "id": "0034c8e2-84c5-4891-8a4b-d24ce225887d",
   "metadata": {},
   "source": [
    "## Exploring the data"
   ]
  },
  {
   "cell_type": "code",
   "execution_count": 4,
   "id": "7ea2d4ad-3dfc-4638-bcd6-f485f3223760",
   "metadata": {},
   "outputs": [
    {
     "name": "stdout",
     "output_type": "stream",
     "text": [
      "Training Images: 60000\n",
      "Testing data:  10000\n",
      "Shape: (28, 28)\n"
     ]
    }
   ],
   "source": [
    "print(\"Training Images:\", len(X_train))\n",
    "print(\"Testing data: \", len(X_test))\n",
    "print(\"Shape:\", X_train[0].shape)"
   ]
  },
  {
   "cell_type": "markdown",
   "id": "375aafa8-aca5-45ef-ac1f-a2f618ebae10",
   "metadata": {},
   "source": [
    "    So we’ve got 60,000 training images and 10,000 testing images, each of which is a NumPy array of shape \n",
    "    -Let’s have a look at some random images from our dataset."
   ]
  },
  {
   "cell_type": "code",
   "execution_count": 6,
   "id": "62c0a2d7-0b63-49e5-a1e8-d63b9fdbb07a",
   "metadata": {},
   "outputs": [],
   "source": [
    "import random\n",
    "import matplotlib.pyplot as plt"
   ]
  },
  {
   "cell_type": "code",
   "execution_count": 9,
   "id": "ab84c315-7743-4ea3-bb6b-d334c6353f40",
   "metadata": {},
   "outputs": [
    {
     "data": {
      "text/plain": [
       "<matplotlib.image.AxesImage at 0x193d938b490>"
      ]
     },
     "execution_count": 9,
     "metadata": {},
     "output_type": "execute_result"
    },
    {
     "data": {
      "image/png": "[encoded data removed]",
      "text/plain": [
       "<Figure size 640x480 with 1 Axes>"
      ]
     },
     "metadata": {},
     "output_type": "display_data"
    }
   ],
   "source": [
    "random_image = random.choice(X_train)\n",
    "plt.imshow(random_image, cmap=\"gray\")"
   ]
  },
  {
   "cell_type": "markdown",
   "id": "6041984c-43c7-4a17-bcac-718aebeed648",
   "metadata": {},
   "source": [
    "### Preprocessing the data"
   ]
  },
  {
   "cell_type": "markdown",
   "id": "a1f4ef06-fa57-4d3a-b1a0-4ebf55d033c1",
   "metadata": {},
   "source": [
    "    Since we’re going to use a Convolutional Neural Network, we need to make some adjustments to our data.\n",
    "\n",
    "    A CNN requires the images to be in the shape (width, height, color_channels) but our (28, 28) images only have width and height. We need to modify their shape to contain the color_channel as well, so that their new shape becomes (28, 28, 1) (grayscale images have only one channel)"
   ]
  },
  {
   "cell_type": "code",
   "execution_count": 10,
   "id": "9ff7a53a-4644-4200-a95d-338ed115e830",
   "metadata": {},
   "outputs": [
    {
     "data": {
      "text/plain": [
       "(60000, 28, 28, 1)"
      ]
     },
     "execution_count": 10,
     "metadata": {},
     "output_type": "execute_result"
    }
   ],
   "source": [
    "X_train = X_train.reshape(X_train.shape[0], 28,28,1)\n",
    "X_test = X_test.reshape(X_test.shape[0], 28,28,1)\n",
    "X_train.shape"
   ]
  },
  {
   "cell_type": "markdown",
   "id": "32628271-fee7-4642-93a9-e12337d478a3",
   "metadata": {},
   "source": [
    "    The value of each pixel in our image contains a value between 0 and 255. We will normalize them to the range between 0 and 1 so that our model can learn faster."
   ]
  },
  {
   "cell_type": "code",
   "execution_count": 11,
   "id": "e3cd5089-017a-4cd7-a11c-ab4128e8be8f",
   "metadata": {},
   "outputs": [],
   "source": [
    "X_train = X_train / 255\n",
    "X_test = X_test / 255"
   ]
  },
  {
   "cell_type": "markdown",
   "id": "b8db589b-d435-4228-be36-9490b82e5abe",
   "metadata": {},
   "source": [
    "    Now, as the last step of preprocessing, we will convert the type of our data to float32 instead of the default float64. This will reduce the model training time and increase its performance."
   ]
  },
  {
   "cell_type": "code",
   "execution_count": 12,
   "id": "582c6300-ebbf-440a-9d64-d61c4d2cf8ad",
   "metadata": {},
   "outputs": [],
   "source": [
    "import numpy as np\n",
    "X_train = X_train.astype(np.float32)\n",
    "X_test = X_test.astype(np.float32)"
   ]
  },
  {
   "cell_type": "markdown",
   "id": "75b5cd08-fe2f-4e1b-9a14-5eebaa305763",
   "metadata": {
    "jp-MarkdownHeadingCollapsed": true,
    "tags": []
   },
   "source": [
    "### # What .shape[0] means"
   ]
  },
  {
   "cell_type": "code",
   "execution_count": 16,
   "id": "b01e1b76-62f9-4cb0-bf15-d0ce671ba698",
   "metadata": {
    "tags": []
   },
   "outputs": [
    {
     "data": {
      "text/plain": [
       "array([[ 0,  1,  2,  3],\n",
       "       [ 4,  5,  6,  7],\n",
       "       [ 8,  9, 10, 11]])"
      ]
     },
     "execution_count": 16,
     "metadata": {},
     "output_type": "execute_result"
    }
   ],
   "source": [
    "import numpy as np\n",
    "Y = np.arange(12).reshape(3,4)\n",
    "Y"
   ]
  },
  {
   "cell_type": "code",
   "execution_count": 17,
   "id": "56261b21-10dd-4e50-9775-f5e93513ce77",
   "metadata": {},
   "outputs": [
    {
     "data": {
      "text/plain": [
       "(3, 4)"
      ]
     },
     "execution_count": 17,
     "metadata": {},
     "output_type": "execute_result"
    }
   ],
   "source": [
    "Y.shape"
   ]
  },
  {
   "cell_type": "code",
   "execution_count": 18,
   "id": "29b73d07-3d6d-4721-8508-d561549e3c12",
   "metadata": {},
   "outputs": [
    {
     "data": {
      "text/plain": [
       "3"
      ]
     },
     "execution_count": 18,
     "metadata": {},
     "output_type": "execute_result"
    }
   ],
   "source": [
    "Y.shape[0]"
   ]
  },
  {
   "cell_type": "markdown",
   "id": "8b5677db-8e4a-4875-a655-e28fa4f9be38",
   "metadata": {},
   "source": [
    "### Building and Training the Model"
   ]
  },
  {
   "cell_type": "markdown",
   "id": "aa90e74c-8434-418d-be6d-3a565bc58eda",
   "metadata": {},
   "source": [
    "    Our model will have two sets of two convolutional layers followed by a max pooling layer, then a flatten layer followed by a dense, full-connected output layer."
   ]
  },
  {
   "cell_type": "code",
   "execution_count": 23,
   "id": "32a01a7d-9906-4fb5-a727-6e56d2b8b810",
   "metadata": {},
   "outputs": [],
   "source": [
    "import tensorflow as tf\n",
    "from tensorflow.keras import layers\n",
    "\n",
    "model = tf.keras.Sequential([\n",
    "    layers.Conv2D(filters = 10,\n",
    "                 kernel_size = 3,\n",
    "                 activation = \"relu\",\n",
    "                 input_shape=(28, 28, 1)),\n",
    "\n",
    "layers.Conv2D(10, 3, activation=\"relu\"),\n",
    "layers.MaxPool2D(),\n",
    "    \n",
    "layers.Conv2D(10, 3, activation=\"relu\"),\n",
    "layers.Conv2D(10, 3, activation=\"relu\"),\n",
    "layers.MaxPool2D(),\n",
    "    \n",
    "layers.Flatten(),\n",
    "layers.Dense(10, activation=\"softmax\")\n",
    "])"
   ]
  },
  {
   "cell_type": "markdown",
   "id": "52f4266f-3d1a-49ea-b69b-a486c5c04fae",
   "metadata": {},
   "source": [
    "    Now we’ll compile our model using the Sparse Categorical Crossentropy as our loss function and Adam as the optimizer."
   ]
  },
  {
   "cell_type": "code",
   "execution_count": 27,
   "id": "abe0d7d0-7f0b-4920-83a7-ff1163a30d21",
   "metadata": {},
   "outputs": [],
   "source": [
    "model.compile(loss=\"sparse_categorical_crossentropy\", optimizer=tf.keras.optimizers.Adam(), metrics=[\"accuracy\"])"
   ]
  },
  {
   "cell_type": "markdown",
   "id": "a2d2cf77-8376-4dd9-918e-212168d523f7",
   "metadata": {
    "tags": []
   },
   "source": [
    "#### Fit/Train"
   ]
  },
  {
   "cell_type": "markdown",
   "id": "a38cd075-c92a-4a84-ab64-7b3179df7e3d",
   "metadata": {},
   "source": [
    "    Finally, let’s train our model on the training data over 3 epochs."
   ]
  },
  {
   "cell_type": "code",
   "execution_count": 28,
   "id": "9804efb3-6259-43e5-add8-ec15a7eebd8b",
   "metadata": {},
   "outputs": [
    {
     "name": "stdout",
     "output_type": "stream",
     "text": [
      "Epoch 1/3\n",
      "1875/1875 [==============================] - 43s 21ms/step - loss: 0.2768 - accuracy: 0.9134\n",
      "Epoch 2/3\n",
      "1875/1875 [==============================] - 45s 24ms/step - loss: 0.0902 - accuracy: 0.9718\n",
      "Epoch 3/3\n",
      "1875/1875 [==============================] - 43s 23ms/step - loss: 0.0653 - accuracy: 0.9791\n"
     ]
    },
    {
     "data": {
      "text/plain": [
       "<keras.callbacks.History at 0x193de38fa30>"
      ]
     },
     "execution_count": 28,
     "metadata": {},
     "output_type": "execute_result"
    }
   ],
   "source": [
    "model.fit(X_train, y_train, epochs=3)"
   ]
  },
  {
   "cell_type": "markdown",
   "id": "dc307fc9-da9c-4b4a-b3a0-8880fb8e0a97",
   "metadata": {},
   "source": [
    "#### Evaluate"
   ]
  },
  {
   "cell_type": "code",
   "execution_count": 31,
   "id": "30a951a1-fb1d-491e-b849-309bd9e837ad",
   "metadata": {},
   "outputs": [
    {
     "name": "stdout",
     "output_type": "stream",
     "text": [
      "313/313 [==============================] - 3s 7ms/step - loss: 0.0544 - accuracy: 0.9824\n"
     ]
    },
    {
     "data": {
      "text/plain": [
       "[0.05441936105489731, 0.9824000000953674]"
      ]
     },
     "execution_count": 31,
     "metadata": {},
     "output_type": "execute_result"
    }
   ],
   "source": [
    "model.evaluate(X_test, y_test)"
   ]
  },
  {
   "cell_type": "markdown",
   "id": "ccb39943-63e2-456f-a7b3-e9e5e499436f",
   "metadata": {
    "jp-MarkdownHeadingCollapsed": true,
    "tags": []
   },
   "source": [
    "### Converting our model to TFLite format"
   ]
  },
  {
   "cell_type": "markdown",
   "id": "57592fd8-98c4-42c1-b30d-f7249627327c",
   "metadata": {},
   "source": [
    "    For small web apps, TFLite works the best as it is only ~1MB as compared to the standard Tensorflow installation of ~450MB.\n",
    "    To install, Run pip install --extra-index-url https://google-coral.github.io/py-repo/ tflite_runtime"
   ]
  },
  {
   "cell_type": "markdown",
   "id": "6f85c594-a24c-40c3-b7cf-0fcdc6e23458",
   "metadata": {},
   "source": [
    "    Now, let’s convert our Tensorflow model to TFLite model using tf.lite API:"
   ]
  },
  {
   "cell_type": "code",
   "execution_count": 32,
   "id": "3c619f1f-cd3c-40ea-8d7e-db82f6bf2485",
   "metadata": {
    "collapsed": true,
    "jupyter": {
     "outputs_hidden": true
    },
    "tags": []
   },
   "outputs": [
    {
     "name": "stderr",
     "output_type": "stream",
     "text": [
      "WARNING:absl:Found untraced functions such as _jit_compiled_convolution_op, _jit_compiled_convolution_op, _jit_compiled_convolution_op, _jit_compiled_convolution_op, _update_step_xla while saving (showing 5 of 5). These functions will not be directly callable after loading.\n"
     ]
    },
    {
     "name": "stdout",
     "output_type": "stream",
     "text": [
      "INFO:tensorflow:Assets written to: C:\\Users\\hp\\AppData\\Local\\Temp\\tmp3c3foi5d\\assets\n"
     ]
    },
    {
     "name": "stderr",
     "output_type": "stream",
     "text": [
      "INFO:tensorflow:Assets written to: C:\\Users\\hp\\AppData\\Local\\Temp\\tmp3c3foi5d\\assets\n"
     ]
    }
   ],
   "source": [
    "converter = tf.lite.TFLiteConverter.from_keras_model(model)\n",
    "tflite_model = converter.convert()\n",
    "with open('model.tflite', 'wb') as f:  \n",
    "\tf.write(tflite_model)"
   ]
  },
  {
   "cell_type": "markdown",
   "id": "44890df8-c889-4770-8316-c6f8992533eb",
   "metadata": {},
   "source": [
    "    Now we have the .tflite file for our model which we’ll be using our web app. Let’s check if it’s working and also see how the “inference” process works in TFLite."
   ]
  },
  {
   "cell_type": "markdown",
   "id": "2bef75d6-2cea-4659-93bb-6e5fd1d34283",
   "metadata": {
    "jp-MarkdownHeadingCollapsed": true,
    "tags": []
   },
   "source": [
    "### Making predictions with our TFLite Model"
   ]
  },
  {
   "cell_type": "markdown",
   "id": "d2017929-b49b-43e3-bbb8-491dfa0d02cc",
   "metadata": {},
   "source": [
    "    When it comes to TFLite, running inferences is a bit different than the standard .predict()method.\n",
    "    First thing you need to do is to create an instance of TFLite interpreter and allocate the input and output tensors to it."
   ]
  },
  {
   "cell_type": "code",
   "execution_count": 35,
   "id": "f635eb03-b6ed-417c-82ac-95bc0e8c6b7d",
   "metadata": {},
   "outputs": [],
   "source": [
    "#import tflite_runtime.interpreter as tflite\n",
    "#interpreter = tflite.Interpreter(model_path=\"model.tflite\")\n",
    "#interpreter.allocate_tensors()"
   ]
  },
  {
   "cell_type": "markdown",
   "id": "be543ef6-27f5-44df-9d30-c75b9127f99e",
   "metadata": {},
   "source": [
    "    gives import error because tensorflow is already imported\n",
    "    \n",
    "    So we move onto normal TF prediction"
   ]
  },
  {
   "cell_type": "markdown",
   "id": "1fc006e1-78f3-4d64-b4f8-a57813c93fe9",
   "metadata": {},
   "source": [
    "    Save tf model incase TFLite model doesn't work"
   ]
  },
  {
   "cell_type": "markdown",
   "id": "db356137-4b6a-46c1-96f1-6b7a84591be1",
   "metadata": {},
   "source": [
    "### Save Model"
   ]
  },
  {
   "cell_type": "code",
   "execution_count": 36,
   "id": "bc5785a8-bce1-4747-b523-89c49b20fe2f",
   "metadata": {
    "collapsed": true,
    "jupyter": {
     "outputs_hidden": true
    },
    "tags": []
   },
   "outputs": [
    {
     "name": "stderr",
     "output_type": "stream",
     "text": [
      "WARNING:absl:Found untraced functions such as _jit_compiled_convolution_op, _jit_compiled_convolution_op, _jit_compiled_convolution_op, _jit_compiled_convolution_op, _update_step_xla while saving (showing 5 of 5). These functions will not be directly callable after loading.\n"
     ]
    },
    {
     "name": "stdout",
     "output_type": "stream",
     "text": [
      "INFO:tensorflow:Assets written to: digitRecognition.model\\assets\n"
     ]
    },
    {
     "name": "stderr",
     "output_type": "stream",
     "text": [
      "INFO:tensorflow:Assets written to: digitRecognition.model\\assets\n"
     ]
    }
   ],
   "source": [
    "model.save(\"digitRecognition.model\")"
   ]
  },
  {
   "cell_type": "markdown",
   "id": "f4198ad5-58be-4287-9388-066544a7cd08",
   "metadata": {
    "tags": []
   },
   "source": [
    "### Predict\n",
    "    Test with any number in our data"
   ]
  },
  {
   "cell_type": "code",
   "execution_count": 14,
   "id": "778c94cc-4b8c-4140-8ffd-170bb85676e9",
   "metadata": {
    "collapsed": true,
    "jupyter": {
     "outputs_hidden": true
    },
    "tags": []
   },
   "outputs": [
    {
     "ename": "NameError",
     "evalue": "name 'model' is not defined",
     "output_type": "error",
     "traceback": [
      "\u001b[1;31m---------------------------------------------------------------------------\u001b[0m",
      "\u001b[1;31mNameError\u001b[0m                                 Traceback (most recent call last)",
      "Cell \u001b[1;32mIn[14], line 3\u001b[0m\n\u001b[0;32m      1\u001b[0m plt\u001b[38;5;241m.\u001b[39mimshow(X_test[\u001b[38;5;241m2502\u001b[39m]\u001b[38;5;241m.\u001b[39mreshape(\u001b[38;5;241m28\u001b[39m,\u001b[38;5;241m28\u001b[39m))\n\u001b[0;32m      2\u001b[0m \u001b[38;5;28minput\u001b[39m \u001b[38;5;241m=\u001b[39m X_test[\u001b[38;5;241m2502\u001b[39m]\u001b[38;5;241m.\u001b[39mreshape(\u001b[38;5;241m-\u001b[39m\u001b[38;5;241m1\u001b[39m, \u001b[38;5;241m28\u001b[39m, \u001b[38;5;241m28\u001b[39m, \u001b[38;5;241m1\u001b[39m)\n\u001b[1;32m----> 3\u001b[0m prediction \u001b[38;5;241m=\u001b[39m \u001b[43mmodel\u001b[49m\u001b[38;5;241m.\u001b[39mpredict(\u001b[38;5;28minput\u001b[39m)\n\u001b[0;32m      4\u001b[0m \u001b[38;5;28mprint\u001b[39m(\u001b[38;5;124mf\u001b[39m\u001b[38;5;124m\"\u001b[39m\u001b[38;5;124mThe number is probably: \u001b[39m\u001b[38;5;132;01m{\u001b[39;00mnp\u001b[38;5;241m.\u001b[39margmax(prediction)\u001b[38;5;132;01m}\u001b[39;00m\u001b[38;5;124m\"\u001b[39m)\n",
      "\u001b[1;31mNameError\u001b[0m: name 'model' is not defined"
     ]
    },
    {
     "data": {
      "image/png": "[encoded data removed]",
      "text/plain": [
       "<Figure size 640x480 with 1 Axes>"
      ]
     },
     "metadata": {},
     "output_type": "display_data"
    }
   ],
   "source": [
    "plt.imshow(X_test[2502].reshape(28,28))\n",
    "input = X_test[2502].reshape(-1, 28, 28, 1)\n",
    "prediction = model.predict(input)\n",
    "print(f\"The number is probably: {np.argmax(prediction)}\")"
   ]
  },
  {
   "cell_type": "markdown",
   "id": "84acecb9-e844-4207-9e3b-70bcff142df8",
   "metadata": {},
   "source": [
    "### Predict using saved Model\n",
    "    N/B You will have to load the data and refine it agan i.e X_test etc"
   ]
  },
  {
   "cell_type": "code",
   "execution_count": 2,
   "id": "e674a87f-a69d-4d8b-93a6-7bb8a7e2cb67",
   "metadata": {},
   "outputs": [],
   "source": [
    "import tensorflow as tf"
   ]
  },
  {
   "cell_type": "code",
   "execution_count": 3,
   "id": "25e1790e-c6e2-4284-a95f-8d9f59bf4950",
   "metadata": {},
   "outputs": [],
   "source": [
    "import numpy as np"
   ]
  },
  {
   "cell_type": "code",
   "execution_count": 4,
   "id": "5ee915c5-bd55-4439-a6ef-83ab85d759f9",
   "metadata": {},
   "outputs": [],
   "source": [
    "import matplotlib.pyplot as plt"
   ]
  },
  {
   "cell_type": "code",
   "execution_count": 7,
   "id": "81340fe3-9d20-43f6-a37b-35c565c8ad94",
   "metadata": {},
   "outputs": [],
   "source": [
    "saved_model = tf.keras.models.load_model('digitRecognition.model')"
   ]
  },
  {
   "cell_type": "code",
   "execution_count": 13,
   "id": "f678d0f8-eba7-4709-a5f0-f15158e7ce5e",
   "metadata": {},
   "outputs": [
    {
     "name": "stdout",
     "output_type": "stream",
     "text": [
      "1/1 [==============================] - 0s 183ms/step\n",
      "The number is probably: 2\n"
     ]
    },
    {
     "data": {
      "image/png": "[encoded data removed]",
      "text/plain": [
       "<Figure size 640x480 with 1 Axes>"
      ]
     },
     "metadata": {},
     "output_type": "display_data"
    }
   ],
   "source": [
    "plt.imshow(X_test[2500].reshape(28,28))\n",
    "input = X_test[2500].reshape(-1, 28, 28, 1)\n",
    "prediction = saved_model.predict(input)\n",
    "print(f\"The number is probably: {np.argmax(prediction)}\")"
   ]
  },
  {
   "cell_type": "code",
   "execution_count": null,
   "id": "d180a51e-d996-4ae2-8f00-22497280022a",
   "metadata": {},
   "outputs": [],
   "source": []
  }
 ],
 "metadata": {
  "kernelspec": {
   "display_name": "Python 3 (ipykernel)",
   "language": "python",
   "name": "python3"
  },
  "language_info": {
   "codemirror_mode": {
    "name": "ipython",
    "version": 3
   },
   "file_extension": ".py",
   "mimetype": "text/x-python",
   "name": "python",
   "nbconvert_exporter": "python",
   "pygments_lexer": "ipython3",
   "version": "3.9.16"
  }
 },
 "nbformat": 4,
 "nbformat_minor": 5
}
